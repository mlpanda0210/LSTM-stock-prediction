{
 "cells": [
  {
   "cell_type": "code",
   "execution_count": 11,
   "metadata": {
    "collapsed": true
   },
   "outputs": [],
   "source": []
  },
  {
   "cell_type": "code",
   "execution_count": 14,
   "metadata": {},
   "outputs": [
    {
     "name": "stdout",
     "output_type": "stream",
     "text": [
      "data: (945,)\n",
      "split_pos: 756\n"
     ]
    },
    {
     "name": "stderr",
     "output_type": "stream",
     "text": [
      "/Users/kenji_tachibana/.pyenv/versions/anaconda3-4.3.0/lib/python3.6/site-packages/keras/models.py:844: UserWarning: The `nb_epoch` argument in `fit` has been renamed `epochs`.\n",
      "  warnings.warn('The `nb_epoch` argument in `fit` '\n"
     ]
    },
    {
     "name": "stdout",
     "output_type": "stream",
     "text": [
      "Epoch 1/30\n",
      "706/706 [==============================] - 14s - loss: 40.7412    \n",
      "Epoch 2/30\n",
      "706/706 [==============================] - 12s - loss: 31.8442    \n",
      "Epoch 3/30\n",
      "706/706 [==============================] - 13s - loss: 26.6225    \n",
      "Epoch 4/30\n",
      "706/706 [==============================] - 13s - loss: 23.4287    \n",
      "Epoch 5/30\n",
      "706/706 [==============================] - 13s - loss: 20.5706    \n",
      "Epoch 6/30\n",
      "706/706 [==============================] - 13s - loss: 20.1466    \n",
      "Epoch 7/30\n",
      "706/706 [==============================] - 13s - loss: 20.1100    \n",
      "Epoch 8/30\n",
      "706/706 [==============================] - 13s - loss: 20.5411    \n",
      "Epoch 9/30\n",
      "706/706 [==============================] - 13s - loss: 19.7970    \n",
      "Epoch 10/30\n",
      "706/706 [==============================] - 13s - loss: 19.3883    \n",
      "Epoch 11/30\n",
      "706/706 [==============================] - 12s - loss: 18.3078    \n",
      "Epoch 12/30\n",
      "706/706 [==============================] - 12s - loss: 19.7808    \n",
      "Epoch 13/30\n",
      "706/706 [==============================] - 12s - loss: 19.3635    \n",
      "Epoch 14/30\n",
      "706/706 [==============================] - 13s - loss: 19.6121    \n",
      "Epoch 15/30\n",
      "706/706 [==============================] - 13s - loss: 19.5541    \n",
      "Epoch 16/30\n",
      "706/706 [==============================] - 13s - loss: 18.1421    \n",
      "Epoch 17/30\n",
      "706/706 [==============================] - 12s - loss: 18.8297    \n",
      "Epoch 18/30\n",
      "706/706 [==============================] - 13s - loss: 18.5950    \n",
      "Epoch 19/30\n",
      "706/706 [==============================] - 14s - loss: 18.2180    \n",
      "Epoch 20/30\n",
      "706/706 [==============================] - 13s - loss: 18.8442    \n",
      "Epoch 21/30\n",
      "706/706 [==============================] - 13s - loss: 17.8670    \n",
      "Epoch 22/30\n",
      "706/706 [==============================] - 13s - loss: 16.6900    \n",
      "Epoch 23/30\n",
      "706/706 [==============================] - 13s - loss: 18.4647    \n",
      "Epoch 24/30\n",
      "706/706 [==============================] - 13s - loss: 18.4973    \n",
      "Epoch 25/30\n",
      "706/706 [==============================] - 13s - loss: 18.5677    \n",
      "Epoch 26/30\n",
      "706/706 [==============================] - 13s - loss: 18.1725    \n",
      "Epoch 27/30\n",
      "706/706 [==============================] - 13s - loss: 18.5424    \n",
      "Epoch 28/30\n",
      "706/706 [==============================] - 12s - loss: 18.2550    \n",
      "Epoch 29/30\n",
      "706/706 [==============================] - 13s - loss: 18.7795    \n",
      "Epoch 30/30\n",
      "706/706 [==============================] - 13s - loss: 18.4366    \n"
     ]
    }
   ],
   "source": [
    "# -*- coding: utf-8 -*-\n",
    "import numpy\n",
    "import pandas\n",
    "import matplotlib.pyplot as plt\n",
    "import datetime\n",
    "\n",
    "from sklearn import preprocessing\n",
    "from keras.models import Sequential\n",
    "from keras.layers.core import Dense, Activation\n",
    "from keras.layers.recurrent import LSTM\n",
    "\n",
    "class Prediction :\n",
    "\n",
    "    def __init__(self):\n",
    "        self.length_of_sequences = 50\n",
    "        self.in_out_neurons = 1\n",
    "        self.hidden_neurons = 300\n",
    "\n",
    "    def load_data(self, data, n_prev=0):\n",
    "        X, Y = [], []\n",
    "        for i in range(len(data) - n_prev):\n",
    "            #学習データとラベルを作成\n",
    "            X.append(data.iloc[i:(i+n_prev)].as_matrix())\n",
    "            Y.append(data.iloc[i+n_prev].as_matrix())\n",
    "        retX = numpy.array(X)\n",
    "        retY = numpy.array(Y)\n",
    "        return retX, retY\n",
    "\n",
    "\n",
    "    def create_model(self) :\n",
    "        model = Sequential()\n",
    "        #LSTM一層作成\n",
    "        model.add(LSTM(self.hidden_neurons, \\\n",
    "                  batch_input_shape=(None, self.length_of_sequences, self.in_out_neurons), \\\n",
    "                  return_sequences=False ))\n",
    "        #全結合層\n",
    "        model.add(Dense(self.in_out_neurons))\n",
    "        #活性化関数\n",
    "        model.add(Activation(\"linear\"))\n",
    "        #重み更新\n",
    "        model.compile(loss=\"mape\", optimizer=\"adam\")\n",
    "        return model\n",
    "\n",
    "\n",
    "    def train(self, X_train, y_train) :\n",
    "        model = self.create_model()\n",
    "        # 学習\n",
    "        model.fit(X_train, y_train, batch_size=10, nb_epoch=30)\n",
    "        return model\n",
    "    \n",
    "    def set_x_test(self,y_train):\n",
    "        x_test = y_train[-self.length_of_sequences:]\n",
    "        np_x_test = numpy.array([x_test])\n",
    "        return np_x_test\n",
    "        \n",
    "if __name__ == \"__main__\":\n",
    "\n",
    "    prediction = Prediction()\n",
    "\n",
    "  # データ準備\n",
    "    data = None\n",
    "    #２００７年から2017年までのデータを仕様\n",
    "    for year in range(2014, 2018):\n",
    "        #データread\n",
    "        data_ = pandas.read_csv('csv_stock/stocks_5406-T_1d_' + str(year) +  '.csv',encoding='shift-jis')\n",
    "        #データをひとまとまりにする\n",
    "        data = data_ if (data is None) else pandas.concat([data, data_])\n",
    "    #カラム名変更\n",
    "    data.columns = ['date', 'open', 'high', 'low', 'close','Price','Buying and selling price']\n",
    "    data['date'] = pandas.to_datetime(data['date'], format='%Y-%m-%d')\n",
    "    #2016年9月27以前の株価がおかしいので補正\n",
    "    data.loc[(data[\"date\"].dt.date <= datetime.date(2016, 9, 27)), 'close'] *= 10\n",
    "    # 終値のデータを標準化\n",
    "    data['close'] = preprocessing.scale(data['close'])\n",
    "    #日でソーティングする\n",
    "    data = data.sort_values(by='date')\n",
    "    #インデックスをリセットする\n",
    "    data = data.reset_index(drop=True)\n",
    "    #日と終値のみのデータにする。\n",
    "    data = data.loc[:, ['date', 'close']]\n",
    "\n",
    "\n",
    "      # 2割をテストデータへ\n",
    "    split_pos = int(len(data) * 0.8)\n",
    "    print(\"data:\",data['close'].shape)\n",
    "    print(\"split_pos:\",split_pos)\n",
    "    \n",
    "    x_train, y_train = prediction.load_data(data[['close']].iloc[0:split_pos], prediction.length_of_sequences)\n",
    "    x_test_all,  y_test_all  = prediction.load_data(data[['close']].iloc[split_pos:], prediction.length_of_sequences)\n",
    "\n",
    "    model = prediction.train(x_train, y_train)\n",
    "    \n",
    "    "
   ]
  },
  {
   "cell_type": "code",
   "execution_count": 15,
   "metadata": {
    "collapsed": true
   },
   "outputs": [],
   "source": [
    "predicted  = []\n",
    "x_test =x_test_all[0].reshape([1,-1,1])"
   ]
  },
  {
   "cell_type": "code",
   "execution_count": 40,
   "metadata": {},
   "outputs": [],
   "source": [
    "  #続けて予測し時系列データを作る\n",
    "for i in range(50):\n",
    "    pred = model.predict(x_test,verbose=0)\n",
    "    predicted.append(pred[0])\n",
    "    x_test  = numpy.append(x_test[0][1:],pred).reshape([1,-1,1])"
   ]
  },
  {
   "cell_type": "code",
   "execution_count": 17,
   "metadata": {},
   "outputs": [],
   "source": [
    "for i in range(50):\n",
    "    pred = model.predict(x_test)\n",
    "    x_test = numpy.concatenate(\n",
    "            (x_test.reshape(50, 1)[1:], pred),\n",
    "            axis=0).reshape(1, 50, 1)\n",
    "    \n",
    "    predicted.append(pred.reshape(-1))"
   ]
  },
  {
   "cell_type": "code",
   "execution_count": 7,
   "metadata": {},
   "outputs": [],
   "source": [
    "predicted = [None for i in range(30)]\n",
    "\n",
    "\n",
    "\n",
    "for i in range(50-30):\n",
    "    pred = model.predict(x_test)\n",
    "    x_test = numpy.concatenate(\n",
    "            (x_test.reshape(30, 1)[1:], pred),\n",
    "            axis=0).reshape(1, 30, 1)\n",
    "    \n",
    "    predicted.append(pred.reshape(-1))"
   ]
  },
  {
   "cell_type": "code",
   "execution_count": 18,
   "metadata": {},
   "outputs": [
    {
     "data": {
      "image/png": "[encoded data removed]",
      "text/plain": [
       "<matplotlib.figure.Figure at 0x12567b208>"
      ]
     },
     "metadata": {},
     "output_type": "display_data"
    }
   ],
   "source": [
    "result = pandas.DataFrame(predicted)\n",
    "result.columns = ['predict']\n",
    "result['actual'] = y_test_all[:50]\n",
    "result.plot()\n",
    "plt.show()"
   ]
  },
  {
   "cell_type": "code",
   "execution_count": 21,
   "metadata": {},
   "outputs": [
    {
     "ename": "NameError",
     "evalue": "name 'y_test' is not defined",
     "output_type": "error",
     "traceback": [
      "\u001b[0;31m---------------------------------------------------------------------------\u001b[0m",
      "\u001b[0;31mNameError\u001b[0m                                 Traceback (most recent call last)",
      "\u001b[0;32m<ipython-input-21-5b7228032229>\u001b[0m in \u001b[0;36m<module>\u001b[0;34m()\u001b[0m\n\u001b[1;32m      1\u001b[0m \u001b[0mresult\u001b[0m \u001b[0;34m=\u001b[0m \u001b[0mpandas\u001b[0m\u001b[0;34m.\u001b[0m\u001b[0mDataFrame\u001b[0m\u001b[0;34m(\u001b[0m\u001b[0mpredicted\u001b[0m\u001b[0;34m)\u001b[0m\u001b[0;34m\u001b[0m\u001b[0m\n\u001b[1;32m      2\u001b[0m \u001b[0mresult\u001b[0m\u001b[0;34m.\u001b[0m\u001b[0mcolumns\u001b[0m \u001b[0;34m=\u001b[0m \u001b[0;34m[\u001b[0m\u001b[0;34m'predict'\u001b[0m\u001b[0;34m]\u001b[0m\u001b[0;34m\u001b[0m\u001b[0m\n\u001b[0;32m----> 3\u001b[0;31m \u001b[0mresult\u001b[0m\u001b[0;34m[\u001b[0m\u001b[0;34m'actual'\u001b[0m\u001b[0;34m]\u001b[0m \u001b[0;34m=\u001b[0m \u001b[0my_test\u001b[0m\u001b[0;34m[\u001b[0m\u001b[0;34m:\u001b[0m\u001b[0;36m50\u001b[0m\u001b[0;34m]\u001b[0m\u001b[0;34m\u001b[0m\u001b[0m\n\u001b[0m\u001b[1;32m      4\u001b[0m \u001b[0mresult\u001b[0m\u001b[0;34m.\u001b[0m\u001b[0mplot\u001b[0m\u001b[0;34m(\u001b[0m\u001b[0;34m)\u001b[0m\u001b[0;34m\u001b[0m\u001b[0m\n\u001b[1;32m      5\u001b[0m \u001b[0mplt\u001b[0m\u001b[0;34m.\u001b[0m\u001b[0mshow\u001b[0m\u001b[0;34m(\u001b[0m\u001b[0;34m)\u001b[0m\u001b[0;34m\u001b[0m\u001b[0m\n",
      "\u001b[0;31mNameError\u001b[0m: name 'y_test' is not defined"
     ]
    }
   ],
   "source": [
    "result = pandas.DataFrame(predicted)\n",
    "result.columns = ['predict']\n",
    "result['actual'] = y_test[:50]\n",
    "result.plot()\n",
    "plt.show()"
   ]
  },
  {
   "cell_type": "code",
   "execution_count": 177,
   "metadata": {},
   "outputs": [
    {
     "data": {
      "image/png": "[encoded data removed]",
      "text/plain": [
       "<matplotlib.figure.Figure at 0x16136e128>"
      ]
     },
     "metadata": {},
     "output_type": "display_data"
    }
   ],
   "source": [
    "data[\"close\"].plot()\n",
    "plt.show()"
   ]
  },
  {
   "cell_type": "code",
   "execution_count": null,
   "metadata": {
    "collapsed": true
   },
   "outputs": [],
   "source": []
  },
  {
   "cell_type": "code",
   "execution_count": null,
   "metadata": {
    "collapsed": true
   },
   "outputs": [],
   "source": []
  },
  {
   "cell_type": "code",
   "execution_count": null,
   "metadata": {
    "collapsed": true
   },
   "outputs": [],
   "source": []
  },
  {
   "cell_type": "code",
   "execution_count": null,
   "metadata": {
    "collapsed": true
   },
   "outputs": [],
   "source": []
  },
  {
   "cell_type": "code",
   "execution_count": null,
   "metadata": {
    "collapsed": true
   },
   "outputs": [],
   "source": []
  },
  {
   "cell_type": "code",
   "execution_count": null,
   "metadata": {
    "collapsed": true
   },
   "outputs": [],
   "source": []
  },
  {
   "cell_type": "code",
   "execution_count": null,
   "metadata": {
    "collapsed": true
   },
   "outputs": [],
   "source": []
  },
  {
   "cell_type": "code",
   "execution_count": null,
   "metadata": {
    "collapsed": true
   },
   "outputs": [],
   "source": []
  }
 ],
 "metadata": {
  "kernelspec": {
   "display_name": "Python 3",
   "language": "python",
   "name": "python3"
  },
  "language_info": {
   "codemirror_mode": {
    "name": "ipython",
    "version": 3
   },
   "file_extension": ".py",
   "mimetype": "text/x-python",
   "name": "python",
   "nbconvert_exporter": "python",
   "pygments_lexer": "ipython3",
   "version": "3.6.0"
  }
 },
 "nbformat": 4,
 "nbformat_minor": 2
}
